{
 "nbformat": 4,
 "nbformat_minor": 2,
 "metadata": {
  "language_info": {
   "name": "python",
   "codemirror_mode": {
    "name": "ipython",
    "version": 3
   },
   "version": "3.7.3"
  },
  "orig_nbformat": 2,
  "file_extension": ".py",
  "mimetype": "text/x-python",
  "name": "python",
  "npconvert_exporter": "python",
  "pygments_lexer": "ipython3",
  "version": 3
 },
 "cells": [
  {
   "cell_type": "markdown",
   "execution_count": 5,
   "metadata": {},
   "outputs": [],
   "source": [
    "# Black Friday Contest"
   ]
  },
  {
   "cell_type": "code",
   "execution_count": 8,
   "metadata": {},
   "outputs": [],
   "source": [
    "%matplotlib inline\n",
    "import pandas as pd\n",
    "import numpy as np\n",
    "import seaborn as sn\n",
    "import matplotlib.pyplot as plt\n",
    "\n",
    "from sklearn.model_selection import train_test_split\n",
    "from sklearn.neighbors import KNeighborsClassifier"
   ]
  },
  {
   "cell_type": "code",
   "execution_count": 10,
   "metadata": {},
   "outputs": [],
   "source": [
    "train = pd.read_csv('train.csv')\n",
    "test = pd.read_csv('test.csv')"
   ]
  },
  {
   "cell_type": "code",
   "execution_count": 13,
   "metadata": {},
   "outputs": [
    {
     "data": {
      "text/html": "<div>\n<style scoped>\n    .dataframe tbody tr th:only-of-type {\n        vertical-align: middle;\n    }\n\n    .dataframe tbody tr th {\n        vertical-align: top;\n    }\n\n    .dataframe thead th {\n        text-align: right;\n    }\n</style>\n<table border=\"1\" class=\"dataframe\">\n  <thead>\n    <tr style=\"text-align: right;\">\n      <th></th>\n      <th>User_ID</th>\n      <th>Occupation</th>\n      <th>Marital_Status</th>\n      <th>Product_Category_1</th>\n      <th>Product_Category_2</th>\n      <th>Product_Category_3</th>\n      <th>Purchase</th>\n    </tr>\n  </thead>\n  <tbody>\n    <tr>\n      <td>count</td>\n      <td>5.500680e+05</td>\n      <td>550068.000000</td>\n      <td>550068.000000</td>\n      <td>550068.000000</td>\n      <td>376430.000000</td>\n      <td>166821.000000</td>\n      <td>550068.000000</td>\n    </tr>\n    <tr>\n      <td>mean</td>\n      <td>1.003029e+06</td>\n      <td>8.076707</td>\n      <td>0.409653</td>\n      <td>5.404270</td>\n      <td>9.842329</td>\n      <td>12.668243</td>\n      <td>9263.968713</td>\n    </tr>\n    <tr>\n      <td>std</td>\n      <td>1.727592e+03</td>\n      <td>6.522660</td>\n      <td>0.491770</td>\n      <td>3.936211</td>\n      <td>5.086590</td>\n      <td>4.125338</td>\n      <td>5023.065394</td>\n    </tr>\n    <tr>\n      <td>min</td>\n      <td>1.000001e+06</td>\n      <td>0.000000</td>\n      <td>0.000000</td>\n      <td>1.000000</td>\n      <td>2.000000</td>\n      <td>3.000000</td>\n      <td>12.000000</td>\n    </tr>\n    <tr>\n      <td>25%</td>\n      <td>1.001516e+06</td>\n      <td>2.000000</td>\n      <td>0.000000</td>\n      <td>1.000000</td>\n      <td>5.000000</td>\n      <td>9.000000</td>\n      <td>5823.000000</td>\n    </tr>\n    <tr>\n      <td>50%</td>\n      <td>1.003077e+06</td>\n      <td>7.000000</td>\n      <td>0.000000</td>\n      <td>5.000000</td>\n      <td>9.000000</td>\n      <td>14.000000</td>\n      <td>8047.000000</td>\n    </tr>\n    <tr>\n      <td>75%</td>\n      <td>1.004478e+06</td>\n      <td>14.000000</td>\n      <td>1.000000</td>\n      <td>8.000000</td>\n      <td>15.000000</td>\n      <td>16.000000</td>\n      <td>12054.000000</td>\n    </tr>\n    <tr>\n      <td>max</td>\n      <td>1.006040e+06</td>\n      <td>20.000000</td>\n      <td>1.000000</td>\n      <td>20.000000</td>\n      <td>18.000000</td>\n      <td>18.000000</td>\n      <td>23961.000000</td>\n    </tr>\n  </tbody>\n</table>\n</div>",
      "text/plain": "            User_ID     Occupation  Marital_Status  Product_Category_1  \\\ncount  5.500680e+05  550068.000000   550068.000000       550068.000000   \nmean   1.003029e+06       8.076707        0.409653            5.404270   \nstd    1.727592e+03       6.522660        0.491770            3.936211   \nmin    1.000001e+06       0.000000        0.000000            1.000000   \n25%    1.001516e+06       2.000000        0.000000            1.000000   \n50%    1.003077e+06       7.000000        0.000000            5.000000   \n75%    1.004478e+06      14.000000        1.000000            8.000000   \nmax    1.006040e+06      20.000000        1.000000           20.000000   \n\n       Product_Category_2  Product_Category_3       Purchase  \ncount       376430.000000       166821.000000  550068.000000  \nmean             9.842329           12.668243    9263.968713  \nstd              5.086590            4.125338    5023.065394  \nmin              2.000000            3.000000      12.000000  \n25%              5.000000            9.000000    5823.000000  \n50%              9.000000           14.000000    8047.000000  \n75%             15.000000           16.000000   12054.000000  \nmax             18.000000           18.000000   23961.000000  "
     },
     "execution_count": 13,
     "metadata": {},
     "output_type": "execute_result"
    }
   ],
   "source": [
    "train.describe()"
   ]
  },
  {
   "cell_type": "code",
   "execution_count": 12,
   "metadata": {},
   "outputs": [
    {
     "data": {
      "text/html": "<div>\n<style scoped>\n    .dataframe tbody tr th:only-of-type {\n        vertical-align: middle;\n    }\n\n    .dataframe tbody tr th {\n        vertical-align: top;\n    }\n\n    .dataframe thead th {\n        text-align: right;\n    }\n</style>\n<table border=\"1\" class=\"dataframe\">\n  <thead>\n    <tr style=\"text-align: right;\">\n      <th></th>\n      <th>User_ID</th>\n      <th>Product_ID</th>\n      <th>Gender</th>\n      <th>Age</th>\n      <th>Occupation</th>\n      <th>City_Category</th>\n      <th>Stay_In_Current_City_Years</th>\n      <th>Marital_Status</th>\n      <th>Product_Category_1</th>\n      <th>Product_Category_2</th>\n      <th>Product_Category_3</th>\n    </tr>\n  </thead>\n  <tbody>\n    <tr>\n      <td>0</td>\n      <td>1000004</td>\n      <td>P00128942</td>\n      <td>M</td>\n      <td>46-50</td>\n      <td>7</td>\n      <td>B</td>\n      <td>2</td>\n      <td>1</td>\n      <td>1</td>\n      <td>11.0</td>\n      <td>NaN</td>\n    </tr>\n    <tr>\n      <td>1</td>\n      <td>1000009</td>\n      <td>P00113442</td>\n      <td>M</td>\n      <td>26-35</td>\n      <td>17</td>\n      <td>C</td>\n      <td>0</td>\n      <td>0</td>\n      <td>3</td>\n      <td>5.0</td>\n      <td>NaN</td>\n    </tr>\n    <tr>\n      <td>2</td>\n      <td>1000010</td>\n      <td>P00288442</td>\n      <td>F</td>\n      <td>36-45</td>\n      <td>1</td>\n      <td>B</td>\n      <td>4+</td>\n      <td>1</td>\n      <td>5</td>\n      <td>14.0</td>\n      <td>NaN</td>\n    </tr>\n    <tr>\n      <td>3</td>\n      <td>1000010</td>\n      <td>P00145342</td>\n      <td>F</td>\n      <td>36-45</td>\n      <td>1</td>\n      <td>B</td>\n      <td>4+</td>\n      <td>1</td>\n      <td>4</td>\n      <td>9.0</td>\n      <td>NaN</td>\n    </tr>\n    <tr>\n      <td>4</td>\n      <td>1000011</td>\n      <td>P00053842</td>\n      <td>F</td>\n      <td>26-35</td>\n      <td>1</td>\n      <td>C</td>\n      <td>1</td>\n      <td>0</td>\n      <td>4</td>\n      <td>5.0</td>\n      <td>12.0</td>\n    </tr>\n  </tbody>\n</table>\n</div>",
      "text/plain": "   User_ID Product_ID Gender    Age  Occupation City_Category  \\\n0  1000004  P00128942      M  46-50           7             B   \n1  1000009  P00113442      M  26-35          17             C   \n2  1000010  P00288442      F  36-45           1             B   \n3  1000010  P00145342      F  36-45           1             B   \n4  1000011  P00053842      F  26-35           1             C   \n\n  Stay_In_Current_City_Years  Marital_Status  Product_Category_1  \\\n0                          2               1                   1   \n1                          0               0                   3   \n2                         4+               1                   5   \n3                         4+               1                   4   \n4                          1               0                   4   \n\n   Product_Category_2  Product_Category_3  \n0                11.0                 NaN  \n1                 5.0                 NaN  \n2                14.0                 NaN  \n3                 9.0                 NaN  \n4                 5.0                12.0  "
     },
     "execution_count": 12,
     "metadata": {},
     "output_type": "execute_result"
    }
   ],
   "source": [
    "test.head()"
   ]
  }
 ]
}